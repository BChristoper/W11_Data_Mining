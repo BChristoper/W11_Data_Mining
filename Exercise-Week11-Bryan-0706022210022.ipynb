{
 "cells": [
  {
   "cell_type": "code",
   "execution_count": 7,
   "metadata": {
    "colab": {
     "base_uri": "https://localhost:8080/"
    },
    "executionInfo": {
     "elapsed": 3545,
     "status": "ok",
     "timestamp": 1732760387889,
     "user": {
      "displayName": "Nathalia Minoque",
      "userId": "00797020017705806857"
     },
     "user_tz": -420
    },
    "id": "JuFb1MP_O5EW",
    "outputId": "bc2e7ba3-a4a0-4db6-bb12-cdc9bdbe6bea"
   },
   "outputs": [
    {
     "name": "stdout",
     "output_type": "stream",
     "text": [
      "Requirement already satisfied: mlxtend==0.23.1 in c:\\users\\bryan\\appdata\\local\\programs\\python\\python312\\lib\\site-packages (0.23.1)\n",
      "Requirement already satisfied: scipy>=1.2.1 in c:\\users\\bryan\\appdata\\local\\programs\\python\\python312\\lib\\site-packages (from mlxtend==0.23.1) (1.12.0)\n",
      "Requirement already satisfied: numpy>=1.16.2 in c:\\users\\bryan\\appdata\\local\\programs\\python\\python312\\lib\\site-packages (from mlxtend==0.23.1) (1.26.4)\n",
      "Requirement already satisfied: pandas>=0.24.2 in c:\\users\\bryan\\appdata\\local\\programs\\python\\python312\\lib\\site-packages (from mlxtend==0.23.1) (2.2.1)\n",
      "Requirement already satisfied: scikit-learn>=1.0.2 in c:\\users\\bryan\\appdata\\local\\programs\\python\\python312\\lib\\site-packages (from mlxtend==0.23.1) (1.4.1.post1)\n",
      "Requirement already satisfied: matplotlib>=3.0.0 in c:\\users\\bryan\\appdata\\local\\programs\\python\\python312\\lib\\site-packages (from mlxtend==0.23.1) (3.8.3)\n",
      "Requirement already satisfied: joblib>=0.13.2 in c:\\users\\bryan\\appdata\\local\\programs\\python\\python312\\lib\\site-packages (from mlxtend==0.23.1) (1.3.2)\n",
      "Requirement already satisfied: contourpy>=1.0.1 in c:\\users\\bryan\\appdata\\local\\programs\\python\\python312\\lib\\site-packages (from matplotlib>=3.0.0->mlxtend==0.23.1) (1.2.0)\n",
      "Requirement already satisfied: cycler>=0.10 in c:\\users\\bryan\\appdata\\local\\programs\\python\\python312\\lib\\site-packages (from matplotlib>=3.0.0->mlxtend==0.23.1) (0.12.1)\n",
      "Requirement already satisfied: fonttools>=4.22.0 in c:\\users\\bryan\\appdata\\local\\programs\\python\\python312\\lib\\site-packages (from matplotlib>=3.0.0->mlxtend==0.23.1) (4.50.0)\n",
      "Requirement already satisfied: kiwisolver>=1.3.1 in c:\\users\\bryan\\appdata\\local\\programs\\python\\python312\\lib\\site-packages (from matplotlib>=3.0.0->mlxtend==0.23.1) (1.4.5)\n",
      "Requirement already satisfied: packaging>=20.0 in c:\\users\\bryan\\appdata\\local\\programs\\python\\python312\\lib\\site-packages (from matplotlib>=3.0.0->mlxtend==0.23.1) (24.0)\n",
      "Requirement already satisfied: pillow>=8 in c:\\users\\bryan\\appdata\\local\\programs\\python\\python312\\lib\\site-packages (from matplotlib>=3.0.0->mlxtend==0.23.1) (10.2.0)\n",
      "Requirement already satisfied: pyparsing>=2.3.1 in c:\\users\\bryan\\appdata\\local\\programs\\python\\python312\\lib\\site-packages (from matplotlib>=3.0.0->mlxtend==0.23.1) (3.1.2)\n",
      "Requirement already satisfied: python-dateutil>=2.7 in c:\\users\\bryan\\appdata\\local\\programs\\python\\python312\\lib\\site-packages (from matplotlib>=3.0.0->mlxtend==0.23.1) (2.9.0.post0)\n",
      "Requirement already satisfied: pytz>=2020.1 in c:\\users\\bryan\\appdata\\local\\programs\\python\\python312\\lib\\site-packages (from pandas>=0.24.2->mlxtend==0.23.1) (2024.1)\n",
      "Requirement already satisfied: tzdata>=2022.7 in c:\\users\\bryan\\appdata\\local\\programs\\python\\python312\\lib\\site-packages (from pandas>=0.24.2->mlxtend==0.23.1) (2024.1)\n",
      "Requirement already satisfied: threadpoolctl>=2.0.0 in c:\\users\\bryan\\appdata\\local\\programs\\python\\python312\\lib\\site-packages (from scikit-learn>=1.0.2->mlxtend==0.23.1) (3.3.0)\n",
      "Requirement already satisfied: six>=1.5 in c:\\users\\bryan\\appdata\\local\\programs\\python\\python312\\lib\\site-packages (from python-dateutil>=2.7->matplotlib>=3.0.0->mlxtend==0.23.1) (1.16.0)\n"
     ]
    },
    {
     "name": "stderr",
     "output_type": "stream",
     "text": [
      "\n",
      "[notice] A new release of pip is available: 24.0 -> 24.3.1\n",
      "[notice] To update, run: python.exe -m pip install --upgrade pip\n"
     ]
    }
   ],
   "source": [
    "import pandas as pd\n",
    "import numpy as np\n",
    "from matplotlib import pyplot as plt\n",
    "from sklearn.preprocessing import OneHotEncoder\n",
    "from mlxtend.preprocessing import TransactionEncoder\n",
    "!pip install mlxtend==0.23.1"
   ]
  },
  {
   "cell_type": "markdown",
   "metadata": {
    "id": "wDYkmRlZPSXY"
   },
   "source": [
    "# Association Rule for Store Dataset"
   ]
  },
  {
   "cell_type": "markdown",
   "metadata": {
    "id": "IYfOAa9fPjln"
   },
   "source": [
    "In this case study, we will explore how association rule can be used to analyze the items that are usualy purcased together.\n",
    "\n",
    "you can refer to this article to find out about apriori and association rule:\n",
    "https://rasbt.github.io/mlxtend/user_guide/frequent_patterns/apriori/\n",
    "https://rasbt.github.io/mlxtend/user_guide/frequent_patterns/association_rules/"
   ]
  },
  {
   "cell_type": "markdown",
   "metadata": {
    "id": "7EOg6BIYPxt4"
   },
   "source": [
    "## Load Data"
   ]
  },
  {
   "cell_type": "markdown",
   "metadata": {
    "id": "Gp0OZCjrQT1n"
   },
   "source": [
    "We will use the dataset of the transaction in a certain store. You can get the dataset here:\n",
    "https://gist.githubusercontent.com/Harsh-Git-Hub/2979ec48043928ad9033d8469928e751/raw/72de943e040b8bd0d087624b154d41b2ba9d9b60/retail_dataset.csv"
   ]
  },
  {
   "cell_type": "code",
   "execution_count": 8,
   "metadata": {
    "colab": {
     "base_uri": "https://localhost:8080/",
     "height": 261
    },
    "executionInfo": {
     "elapsed": 17,
     "status": "ok",
     "timestamp": 1732760387889,
     "user": {
      "displayName": "Nathalia Minoque",
      "userId": "00797020017705806857"
     },
     "user_tz": -420
    },
    "id": "LDF65VBRQjFL",
    "outputId": "6352b0ee-b143-4779-9096-4e38d7fa0a87"
   },
   "outputs": [
    {
     "data": {
      "text/html": [
       "<div>\n",
       "<style scoped>\n",
       "    .dataframe tbody tr th:only-of-type {\n",
       "        vertical-align: middle;\n",
       "    }\n",
       "\n",
       "    .dataframe tbody tr th {\n",
       "        vertical-align: top;\n",
       "    }\n",
       "\n",
       "    .dataframe thead th {\n",
       "        text-align: right;\n",
       "    }\n",
       "</style>\n",
       "<table border=\"1\" class=\"dataframe\">\n",
       "  <thead>\n",
       "    <tr style=\"text-align: right;\">\n",
       "      <th></th>\n",
       "      <th>0</th>\n",
       "      <th>1</th>\n",
       "      <th>2</th>\n",
       "      <th>3</th>\n",
       "      <th>4</th>\n",
       "      <th>5</th>\n",
       "      <th>6</th>\n",
       "    </tr>\n",
       "  </thead>\n",
       "  <tbody>\n",
       "    <tr>\n",
       "      <th>0</th>\n",
       "      <td>Bread</td>\n",
       "      <td>Wine</td>\n",
       "      <td>Eggs</td>\n",
       "      <td>Meat</td>\n",
       "      <td>Cheese</td>\n",
       "      <td>Pencil</td>\n",
       "      <td>Diaper</td>\n",
       "    </tr>\n",
       "    <tr>\n",
       "      <th>1</th>\n",
       "      <td>Bread</td>\n",
       "      <td>Cheese</td>\n",
       "      <td>Meat</td>\n",
       "      <td>Diaper</td>\n",
       "      <td>Wine</td>\n",
       "      <td>Milk</td>\n",
       "      <td>Pencil</td>\n",
       "    </tr>\n",
       "    <tr>\n",
       "      <th>2</th>\n",
       "      <td>Cheese</td>\n",
       "      <td>Meat</td>\n",
       "      <td>Eggs</td>\n",
       "      <td>Milk</td>\n",
       "      <td>Wine</td>\n",
       "      <td>NaN</td>\n",
       "      <td>NaN</td>\n",
       "    </tr>\n",
       "    <tr>\n",
       "      <th>3</th>\n",
       "      <td>Cheese</td>\n",
       "      <td>Meat</td>\n",
       "      <td>Eggs</td>\n",
       "      <td>Milk</td>\n",
       "      <td>Wine</td>\n",
       "      <td>NaN</td>\n",
       "      <td>NaN</td>\n",
       "    </tr>\n",
       "    <tr>\n",
       "      <th>4</th>\n",
       "      <td>Meat</td>\n",
       "      <td>Pencil</td>\n",
       "      <td>Wine</td>\n",
       "      <td>NaN</td>\n",
       "      <td>NaN</td>\n",
       "      <td>NaN</td>\n",
       "      <td>NaN</td>\n",
       "    </tr>\n",
       "  </tbody>\n",
       "</table>\n",
       "</div>"
      ],
      "text/plain": [
       "        0       1     2       3       4       5       6\n",
       "0   Bread    Wine  Eggs    Meat  Cheese  Pencil  Diaper\n",
       "1   Bread  Cheese  Meat  Diaper    Wine    Milk  Pencil\n",
       "2  Cheese    Meat  Eggs    Milk    Wine     NaN     NaN\n",
       "3  Cheese    Meat  Eggs    Milk    Wine     NaN     NaN\n",
       "4    Meat  Pencil  Wine     NaN     NaN     NaN     NaN"
      ]
     },
     "execution_count": 8,
     "metadata": {},
     "output_type": "execute_result"
    }
   ],
   "source": [
    "# load the data set ans show the first five transaction\n",
    "df = pd.read_csv(r\"https://gist.githubusercontent.com/Harsh-Git-Hub/2979ec48043928ad9033d8469928e751/raw/72de943e040b8bd0d087624b154d41b2ba9d9b60/retail_dataset.csv\")\n",
    "df.head()"
   ]
  },
  {
   "cell_type": "markdown",
   "metadata": {
    "id": "IkfhUabDQup9"
   },
   "source": [
    "# Get the set of product that has been purchased\n"
   ]
  },
  {
   "cell_type": "code",
   "execution_count": 9,
   "metadata": {},
   "outputs": [
    {
     "name": "stdout",
     "output_type": "stream",
     "text": [
      "{'Eggs', 'Bread', 'Meat', 'Wine', 'Pencil', 'Diaper', 'Milk', 'Bagel', nan, 'Cheese'}\n"
     ]
    }
   ],
   "source": [
    "unique = set(np.ravel(df))\n",
    "for i in df:\n",
    "  unique.update(df[i].unique())\n",
    "print(unique)"
   ]
  },
  {
   "cell_type": "markdown",
   "metadata": {
    "id": "M4g4k83bP07H"
   },
   "source": [
    "## Preprocess Data"
   ]
  },
  {
   "cell_type": "markdown",
   "metadata": {
    "id": "GEnL1bXtRLXe"
   },
   "source": [
    "In this step, we will transform our dataset so that we will have a one hot encoding based on the purchased products."
   ]
  },
  {
   "cell_type": "code",
   "execution_count": 10,
   "metadata": {},
   "outputs": [
    {
     "data": {
      "text/plain": [
       "{'Pencil': 0,\n",
       " 'Diaper': 0,\n",
       " 'Milk': 0,\n",
       " 'Cheese': 0,\n",
       " 'Eggs': 1,\n",
       " 'Bread': 1,\n",
       " 'Meat': 1,\n",
       " 'Wine': 1,\n",
       " 'Bagel': 1,\n",
       " nan: 1}"
      ]
     },
     "execution_count": 10,
     "metadata": {},
     "output_type": "execute_result"
    }
   ],
   "source": [
    "#create an itemset based on the products\n",
    "itemset = set(unique)\n",
    "\n",
    "# encoding the feature\n",
    "encodedValue = []\n",
    "for index, row in df.iterrows():\n",
    "    rowset = set(row) \n",
    "    items = {}\n",
    "    uncommons = list(itemset - rowset)\n",
    "    commons = list(itemset.intersection(rowset))\n",
    "    for i in uncommons:\n",
    "        items[i] = 0\n",
    "    for j in commons:\n",
    "        items[j] = 1\n",
    "    encodedValue.append(items)\n",
    "\n",
    "items"
   ]
  },
  {
   "cell_type": "code",
   "execution_count": 11,
   "metadata": {},
   "outputs": [
    {
     "data": {
      "text/html": [
       "<div>\n",
       "<style scoped>\n",
       "    .dataframe tbody tr th:only-of-type {\n",
       "        vertical-align: middle;\n",
       "    }\n",
       "\n",
       "    .dataframe tbody tr th {\n",
       "        vertical-align: top;\n",
       "    }\n",
       "\n",
       "    .dataframe thead th {\n",
       "        text-align: right;\n",
       "    }\n",
       "</style>\n",
       "<table border=\"1\" class=\"dataframe\">\n",
       "  <thead>\n",
       "    <tr style=\"text-align: right;\">\n",
       "      <th></th>\n",
       "      <th>NaN</th>\n",
       "      <th>Milk</th>\n",
       "      <th>Bagel</th>\n",
       "      <th>Eggs</th>\n",
       "      <th>Bread</th>\n",
       "      <th>Meat</th>\n",
       "      <th>Wine</th>\n",
       "      <th>Pencil</th>\n",
       "      <th>Diaper</th>\n",
       "      <th>Cheese</th>\n",
       "    </tr>\n",
       "  </thead>\n",
       "  <tbody>\n",
       "    <tr>\n",
       "      <th>0</th>\n",
       "      <td>0</td>\n",
       "      <td>0</td>\n",
       "      <td>0</td>\n",
       "      <td>1</td>\n",
       "      <td>1</td>\n",
       "      <td>1</td>\n",
       "      <td>1</td>\n",
       "      <td>1</td>\n",
       "      <td>1</td>\n",
       "      <td>1</td>\n",
       "    </tr>\n",
       "    <tr>\n",
       "      <th>1</th>\n",
       "      <td>0</td>\n",
       "      <td>1</td>\n",
       "      <td>0</td>\n",
       "      <td>0</td>\n",
       "      <td>1</td>\n",
       "      <td>1</td>\n",
       "      <td>1</td>\n",
       "      <td>1</td>\n",
       "      <td>1</td>\n",
       "      <td>1</td>\n",
       "    </tr>\n",
       "    <tr>\n",
       "      <th>2</th>\n",
       "      <td>1</td>\n",
       "      <td>1</td>\n",
       "      <td>0</td>\n",
       "      <td>1</td>\n",
       "      <td>0</td>\n",
       "      <td>1</td>\n",
       "      <td>1</td>\n",
       "      <td>0</td>\n",
       "      <td>0</td>\n",
       "      <td>1</td>\n",
       "    </tr>\n",
       "    <tr>\n",
       "      <th>3</th>\n",
       "      <td>1</td>\n",
       "      <td>1</td>\n",
       "      <td>0</td>\n",
       "      <td>1</td>\n",
       "      <td>0</td>\n",
       "      <td>1</td>\n",
       "      <td>1</td>\n",
       "      <td>0</td>\n",
       "      <td>0</td>\n",
       "      <td>1</td>\n",
       "    </tr>\n",
       "    <tr>\n",
       "      <th>4</th>\n",
       "      <td>1</td>\n",
       "      <td>0</td>\n",
       "      <td>0</td>\n",
       "      <td>0</td>\n",
       "      <td>0</td>\n",
       "      <td>1</td>\n",
       "      <td>1</td>\n",
       "      <td>1</td>\n",
       "      <td>0</td>\n",
       "      <td>0</td>\n",
       "    </tr>\n",
       "  </tbody>\n",
       "</table>\n",
       "</div>"
      ],
      "text/plain": [
       "   NaN  Milk  Bagel  Eggs  Bread  Meat  Wine  Pencil  Diaper  Cheese\n",
       "0    0     0      0     1      1     1     1       1       1       1\n",
       "1    0     1      0     0      1     1     1       1       1       1\n",
       "2    1     1      0     1      0     1     1       0       0       1\n",
       "3    1     1      0     1      0     1     1       0       0       1\n",
       "4    1     0      0     0      0     1     1       1       0       0"
      ]
     },
     "execution_count": 11,
     "metadata": {},
     "output_type": "execute_result"
    }
   ],
   "source": [
    "  # create new dataframe from the encoded features\n",
    "new_df = pd.DataFrame(encodedValue)\n",
    "  # show the new dataframe\n",
    "new_df.head()"
   ]
  },
  {
   "cell_type": "code",
   "execution_count": 12,
   "metadata": {
    "colab": {
     "base_uri": "https://localhost:8080/",
     "height": 261
    },
    "executionInfo": {
     "elapsed": 10,
     "status": "ok",
     "timestamp": 1732760387889,
     "user": {
      "displayName": "Nathalia Minoque",
      "userId": "00797020017705806857"
     },
     "user_tz": -420
    },
    "id": "V2hfmZMRhVeA",
    "outputId": "f7f297c9-85dd-4025-c5b2-f11c1857bee7"
   },
   "outputs": [
    {
     "data": {
      "text/html": [
       "<div>\n",
       "<style scoped>\n",
       "    .dataframe tbody tr th:only-of-type {\n",
       "        vertical-align: middle;\n",
       "    }\n",
       "\n",
       "    .dataframe tbody tr th {\n",
       "        vertical-align: top;\n",
       "    }\n",
       "\n",
       "    .dataframe thead th {\n",
       "        text-align: right;\n",
       "    }\n",
       "</style>\n",
       "<table border=\"1\" class=\"dataframe\">\n",
       "  <thead>\n",
       "    <tr style=\"text-align: right;\">\n",
       "      <th></th>\n",
       "      <th>NaN</th>\n",
       "      <th>Bagel</th>\n",
       "      <th>Eggs</th>\n",
       "      <th>Bread</th>\n",
       "      <th>Meat</th>\n",
       "      <th>Wine</th>\n",
       "      <th>Pencil</th>\n",
       "      <th>Diaper</th>\n",
       "      <th>Cheese</th>\n",
       "    </tr>\n",
       "  </thead>\n",
       "  <tbody>\n",
       "    <tr>\n",
       "      <th>0</th>\n",
       "      <td>0</td>\n",
       "      <td>0</td>\n",
       "      <td>1</td>\n",
       "      <td>1</td>\n",
       "      <td>1</td>\n",
       "      <td>1</td>\n",
       "      <td>1</td>\n",
       "      <td>1</td>\n",
       "      <td>1</td>\n",
       "    </tr>\n",
       "    <tr>\n",
       "      <th>1</th>\n",
       "      <td>0</td>\n",
       "      <td>0</td>\n",
       "      <td>0</td>\n",
       "      <td>1</td>\n",
       "      <td>1</td>\n",
       "      <td>1</td>\n",
       "      <td>1</td>\n",
       "      <td>1</td>\n",
       "      <td>1</td>\n",
       "    </tr>\n",
       "    <tr>\n",
       "      <th>2</th>\n",
       "      <td>1</td>\n",
       "      <td>0</td>\n",
       "      <td>1</td>\n",
       "      <td>0</td>\n",
       "      <td>1</td>\n",
       "      <td>1</td>\n",
       "      <td>0</td>\n",
       "      <td>0</td>\n",
       "      <td>1</td>\n",
       "    </tr>\n",
       "    <tr>\n",
       "      <th>3</th>\n",
       "      <td>1</td>\n",
       "      <td>0</td>\n",
       "      <td>1</td>\n",
       "      <td>0</td>\n",
       "      <td>1</td>\n",
       "      <td>1</td>\n",
       "      <td>0</td>\n",
       "      <td>0</td>\n",
       "      <td>1</td>\n",
       "    </tr>\n",
       "    <tr>\n",
       "      <th>4</th>\n",
       "      <td>1</td>\n",
       "      <td>0</td>\n",
       "      <td>0</td>\n",
       "      <td>0</td>\n",
       "      <td>1</td>\n",
       "      <td>1</td>\n",
       "      <td>1</td>\n",
       "      <td>0</td>\n",
       "      <td>0</td>\n",
       "    </tr>\n",
       "  </tbody>\n",
       "</table>\n",
       "</div>"
      ],
      "text/plain": [
       "   NaN  Bagel  Eggs  Bread  Meat  Wine  Pencil  Diaper  Cheese\n",
       "0    0      0     1      1     1     1       1       1       1\n",
       "1    0      0     0      1     1     1       1       1       1\n",
       "2    1      0     1      0     1     1       0       0       1\n",
       "3    1      0     1      0     1     1       0       0       1\n",
       "4    1      0     0      0     1     1       1       0       0"
      ]
     },
     "execution_count": 12,
     "metadata": {},
     "output_type": "execute_result"
    }
   ],
   "source": [
    "# Since, the encoded dataframe consist of the empty column. We will drop the NaN column or u can use the index.\n",
    "new_df = new_df.drop(new_df.columns[1], axis=1)\n",
    "new_df.head()"
   ]
  },
  {
   "cell_type": "markdown",
   "metadata": {
    "id": "lBJmzWAAS4Mw"
   },
   "source": [
    "Since, the encoded dataframe consist of the empty column. We will drop the NaN column or select all columns other than the first column."
   ]
  },
  {
   "cell_type": "markdown",
   "metadata": {
    "id": "_UXDzSNPP35P"
   },
   "source": [
    "## Apriori Algorithm"
   ]
  },
  {
   "cell_type": "markdown",
   "metadata": {
    "id": "K-jD3ea4TYMV"
   },
   "source": [
    "We will use appriori algorithm to determine the frequently purchased products.\n",
    "For this case study, we will min_support=0.2"
   ]
  },
  {
   "cell_type": "code",
   "execution_count": 13,
   "metadata": {
    "colab": {
     "base_uri": "https://localhost:8080/",
     "height": 1000
    },
    "executionInfo": {
     "elapsed": 9,
     "status": "ok",
     "timestamp": 1732760387889,
     "user": {
      "displayName": "Nathalia Minoque",
      "userId": "00797020017705806857"
     },
     "user_tz": -420
    },
    "id": "BLA4Jqhoyjof",
    "outputId": "1e49e7f0-1129-40ed-982f-27d0450f6bb1"
   },
   "outputs": [
    {
     "name": "stderr",
     "output_type": "stream",
     "text": [
      "c:\\Users\\bryan\\AppData\\Local\\Programs\\Python\\Python312\\Lib\\site-packages\\mlxtend\\frequent_patterns\\fpcommon.py:109: DeprecationWarning: DataFrames with non-bool types result in worse computationalperformance and their support might be discontinued in the future.Please use a DataFrame with bool type\n",
      "  warnings.warn(\n"
     ]
    },
    {
     "data": {
      "text/html": [
       "<div>\n",
       "<style scoped>\n",
       "    .dataframe tbody tr th:only-of-type {\n",
       "        vertical-align: middle;\n",
       "    }\n",
       "\n",
       "    .dataframe tbody tr th {\n",
       "        vertical-align: top;\n",
       "    }\n",
       "\n",
       "    .dataframe thead th {\n",
       "        text-align: right;\n",
       "    }\n",
       "</style>\n",
       "<table border=\"1\" class=\"dataframe\">\n",
       "  <thead>\n",
       "    <tr style=\"text-align: right;\">\n",
       "      <th></th>\n",
       "      <th>support</th>\n",
       "      <th>itemsets</th>\n",
       "    </tr>\n",
       "  </thead>\n",
       "  <tbody>\n",
       "    <tr>\n",
       "      <th>0</th>\n",
       "      <td>0.869841</td>\n",
       "      <td>(nan)</td>\n",
       "    </tr>\n",
       "    <tr>\n",
       "      <th>1</th>\n",
       "      <td>0.425397</td>\n",
       "      <td>(Bagel)</td>\n",
       "    </tr>\n",
       "    <tr>\n",
       "      <th>2</th>\n",
       "      <td>0.438095</td>\n",
       "      <td>(Eggs)</td>\n",
       "    </tr>\n",
       "    <tr>\n",
       "      <th>3</th>\n",
       "      <td>0.504762</td>\n",
       "      <td>(Bread)</td>\n",
       "    </tr>\n",
       "    <tr>\n",
       "      <th>4</th>\n",
       "      <td>0.476190</td>\n",
       "      <td>(Meat)</td>\n",
       "    </tr>\n",
       "  </tbody>\n",
       "</table>\n",
       "</div>"
      ],
      "text/plain": [
       "    support itemsets\n",
       "0  0.869841    (nan)\n",
       "1  0.425397  (Bagel)\n",
       "2  0.438095   (Eggs)\n",
       "3  0.504762  (Bread)\n",
       "4  0.476190   (Meat)"
      ]
     },
     "execution_count": 13,
     "metadata": {},
     "output_type": "execute_result"
    }
   ],
   "source": [
    "#Set threshold value untuk digunakan dalam penghitungan support\n",
    "from mlxtend.frequent_patterns import apriori, association_rules\n",
    "\n",
    "freqpurchase = apriori(new_df, min_support=0.2, use_colnames=True)\n",
    "freqpurchase.head()"
   ]
  },
  {
   "cell_type": "markdown",
   "metadata": {
    "id": "uEr2YXHrVOIA"
   },
   "source": [
    "The we will generate association rule of the frequent itemset based on confidence level with the threshold=0.6"
   ]
  },
  {
   "cell_type": "code",
   "execution_count": 14,
   "metadata": {},
   "outputs": [
    {
     "data": {
      "text/html": [
       "<div>\n",
       "<style scoped>\n",
       "    .dataframe tbody tr th:only-of-type {\n",
       "        vertical-align: middle;\n",
       "    }\n",
       "\n",
       "    .dataframe tbody tr th {\n",
       "        vertical-align: top;\n",
       "    }\n",
       "\n",
       "    .dataframe thead th {\n",
       "        text-align: right;\n",
       "    }\n",
       "</style>\n",
       "<table border=\"1\" class=\"dataframe\">\n",
       "  <thead>\n",
       "    <tr style=\"text-align: right;\">\n",
       "      <th></th>\n",
       "      <th>antecedents</th>\n",
       "      <th>consequents</th>\n",
       "      <th>antecedent support</th>\n",
       "      <th>consequent support</th>\n",
       "      <th>support</th>\n",
       "      <th>confidence</th>\n",
       "      <th>lift</th>\n",
       "      <th>leverage</th>\n",
       "      <th>conviction</th>\n",
       "      <th>zhangs_metric</th>\n",
       "    </tr>\n",
       "  </thead>\n",
       "  <tbody>\n",
       "    <tr>\n",
       "      <th>0</th>\n",
       "      <td>(Bagel)</td>\n",
       "      <td>(nan)</td>\n",
       "      <td>0.425397</td>\n",
       "      <td>0.869841</td>\n",
       "      <td>0.336508</td>\n",
       "      <td>0.791045</td>\n",
       "      <td>0.909413</td>\n",
       "      <td>-0.033520</td>\n",
       "      <td>0.622902</td>\n",
       "      <td>-0.147743</td>\n",
       "    </tr>\n",
       "    <tr>\n",
       "      <th>1</th>\n",
       "      <td>(Eggs)</td>\n",
       "      <td>(nan)</td>\n",
       "      <td>0.438095</td>\n",
       "      <td>0.869841</td>\n",
       "      <td>0.336508</td>\n",
       "      <td>0.768116</td>\n",
       "      <td>0.883053</td>\n",
       "      <td>-0.044565</td>\n",
       "      <td>0.561310</td>\n",
       "      <td>-0.190735</td>\n",
       "    </tr>\n",
       "    <tr>\n",
       "      <th>2</th>\n",
       "      <td>(Bread)</td>\n",
       "      <td>(nan)</td>\n",
       "      <td>0.504762</td>\n",
       "      <td>0.869841</td>\n",
       "      <td>0.396825</td>\n",
       "      <td>0.786164</td>\n",
       "      <td>0.903801</td>\n",
       "      <td>-0.042237</td>\n",
       "      <td>0.608683</td>\n",
       "      <td>-0.176903</td>\n",
       "    </tr>\n",
       "    <tr>\n",
       "      <th>3</th>\n",
       "      <td>(Meat)</td>\n",
       "      <td>(nan)</td>\n",
       "      <td>0.476190</td>\n",
       "      <td>0.869841</td>\n",
       "      <td>0.368254</td>\n",
       "      <td>0.773333</td>\n",
       "      <td>0.889051</td>\n",
       "      <td>-0.045956</td>\n",
       "      <td>0.574230</td>\n",
       "      <td>-0.192405</td>\n",
       "    </tr>\n",
       "    <tr>\n",
       "      <th>4</th>\n",
       "      <td>(Wine)</td>\n",
       "      <td>(nan)</td>\n",
       "      <td>0.438095</td>\n",
       "      <td>0.869841</td>\n",
       "      <td>0.317460</td>\n",
       "      <td>0.724638</td>\n",
       "      <td>0.833069</td>\n",
       "      <td>-0.063613</td>\n",
       "      <td>0.472682</td>\n",
       "      <td>-0.262869</td>\n",
       "    </tr>\n",
       "  </tbody>\n",
       "</table>\n",
       "</div>"
      ],
      "text/plain": [
       "  antecedents consequents  antecedent support  consequent support   support  \\\n",
       "0     (Bagel)       (nan)            0.425397            0.869841  0.336508   \n",
       "1      (Eggs)       (nan)            0.438095            0.869841  0.336508   \n",
       "2     (Bread)       (nan)            0.504762            0.869841  0.396825   \n",
       "3      (Meat)       (nan)            0.476190            0.869841  0.368254   \n",
       "4      (Wine)       (nan)            0.438095            0.869841  0.317460   \n",
       "\n",
       "   confidence      lift  leverage  conviction  zhangs_metric  \n",
       "0    0.791045  0.909413 -0.033520    0.622902      -0.147743  \n",
       "1    0.768116  0.883053 -0.044565    0.561310      -0.190735  \n",
       "2    0.786164  0.903801 -0.042237    0.608683      -0.176903  \n",
       "3    0.773333  0.889051 -0.045956    0.574230      -0.192405  \n",
       "4    0.724638  0.833069 -0.063613    0.472682      -0.262869  "
      ]
     },
     "execution_count": 14,
     "metadata": {},
     "output_type": "execute_result"
    }
   ],
   "source": [
    "assRules = association_rules(freqpurchase, metric=\"confidence\", min_threshold=0.6)\n",
    "assRules.head()"
   ]
  },
  {
   "cell_type": "markdown",
   "metadata": {
    "id": "CZx_BU8MjgRg"
   },
   "source": [
    "Provide explanation about __antecedent support__, __consequent support__, __support__, __confidence__, __lift__, __leverage__, __conviction__, __conviction__ and the interpretation from the case above (please use text section)"
   ]
  },
  {
   "cell_type": "markdown",
   "metadata": {},
   "source": [
    "Antecedent Support: The frequency at which the \"if\" component of the rule appears in transactions. Higher values suggest that the items are commonly purchased.\n",
    "\n",
    "Consequent Support: The frequency at which the \"then\" component of the rule appears in transactions. Higher values indicate that these items are also commonly purchased.\n",
    "\n",
    "Support: The ratio of transactions that include both the antecedent and consequent. Higher support values signify stronger associations between the items.\n",
    "\n",
    "Confidence: The likelihood of the consequent occurring when the antecedent is present. Higher confidence indicates that the rule is more dependable.\n",
    "\n",
    "Lift: A measure of how much more probable the consequent is when the antecedent is present compared to its random occurrence. A lift value greater than 1 suggests a positive relationship.\n",
    "\n",
    "Leverage: The difference between the actual frequency of the antecedent and consequent appearing together and the frequency expected if they were independent. Positive leverage values indicate a stronger association.\n",
    "\n",
    "Conviction: A measure of how much the occurrence of the consequent relies on the antecedent. Higher conviction values imply a stronger dependency."
   ]
  }
 ],
 "metadata": {
  "colab": {
   "provenance": []
  },
  "kernelspec": {
   "display_name": "Python 3",
   "language": "python",
   "name": "python3"
  },
  "language_info": {
   "codemirror_mode": {
    "name": "ipython",
    "version": 3
   },
   "file_extension": ".py",
   "mimetype": "text/x-python",
   "name": "python",
   "nbconvert_exporter": "python",
   "pygments_lexer": "ipython3",
   "version": "3.12.2"
  }
 },
 "nbformat": 4,
 "nbformat_minor": 0
}
